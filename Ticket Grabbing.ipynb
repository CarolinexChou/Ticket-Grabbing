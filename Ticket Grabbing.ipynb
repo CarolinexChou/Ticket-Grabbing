{
 "cells": [
  {
   "cell_type": "code",
   "execution_count": null,
   "id": "5d4a9e1e",
   "metadata": {},
   "outputs": [],
   "source": [
    "from selenium import webdriver\n",
    "import requests\n",
    "from selenium.webdriver.common.keys import Keys\n",
    "from datetime import datetime\n",
    "from time import sleep"
   ]
  },
  {
   "cell_type": "code",
   "execution_count": null,
   "id": "dd87a24a",
   "metadata": {},
   "outputs": [],
   "source": [
    "#open the website\n",
    "driver = webdriver.Chrome(\\\"/Users/tangxin/Downloads/chromedriver\\\")\n",
    "driver.get(\\\"https://www.indievox.com/riversidemusic/event-post/21556\\\")"
   ]
  },
  {
   "cell_type": "code",
   "execution_count": null,
   "id": "ded4f114",
   "metadata": {},
   "outputs": [],
   "source": [
    "#count down\n",
    "final = datetime(2019, 1, 22, 5, 15, 30).timestamp()\n",
    "remain = final - datetime.now().timestamp()\n",
    "driver.implicitly_wait(60)\n",
    "while True:\n",
    "    if remain > 0:\n",
    "        print(remain)\n",
    "        sleep(1)\n",
    "        remain = final - datetime.now().timestamp()\n",
    "    else:\n",
    "        break\n",
    "driver.find_element_by_css_selector(\\\"#main-board > div > div.profile-content > div > div > div.col-lg-4.col-md-4 > div.event-block.m-bottom-2 > div > form > button\\\").click()"
   ]
  },
  {
   "cell_type": "code",
   "execution_count": null,
   "id": "b974fb5f",
   "metadata": {},
   "outputs": [],
   "source": [
    "#enter email address and password\n",
    "email= ('105205089@nccu.edu.tw')\n",
    "password= ('selenium')\n",
    "\n",
    "driver.find_element_by_id('login-email').send_keys(email)\n",
    "driver.find_element_by_id(\\\"login-password\\\").send_keys(password)\n",
    "driver.find_element_by_css_selector(\\\"#login-submit\\\").click()"
   ]
  },
  {
   "cell_type": "code",
   "execution_count": null,
   "id": "f6b15806",
   "metadata": {},
   "outputs": [],
   "source": [
    "#enter purchase information\n",
    "driver.find_element_by_css_selector(\\\"#main-board > div > div.profile-content > div > div > div.col-lg-8.col-md-8 > form > button\\\").click()\n",
    "idno = ('L252776817')\n",
    "name = ('Adam Mars')\n",
    "phone = ('0927267883')\n",
    "driver.find_element_by_css_selector(\\\"#order-quantity\\\").click()\n",
    "driver.find_element_by_css_selector(\\\"#order-quantity > option:nth-child(2)\\\").click()\n",
    "driver.find_element_by_css_selector(\\\"#buy-ticket-payway\\\").click()\n",
    "driver.find_element_by_css_selector(\\\"#payway-ibon\\\").click()\n",
    "driver.find_element_by_css_selector(\\\"#buy-ticket-btn\\\").click()\n",
    "driver.find_element_by_id(\\\"order-idno\\\").send_keys(idno)\n",
    "driver.find_element_by_id(\\\"contact-name\\\").send_keys(name)\n",
    "driver.find_element_by_id(\\\"contact-phone\\\").send_keys(phone)"
   ]
  },
  {
   "cell_type": "code",
   "execution_count": null,
   "id": "143dfdcb",
   "metadata": {},
   "outputs": [],
   "source": [
    "#press the confirm buttion\n",
    "alert = driver.switch_to_alert()\n",
    "alert.accept()"
   ]
  }
 ],
 "metadata": {
  "kernelspec": {
   "display_name": "Python 3 (ipykernel)",
   "language": "python",
   "name": "python3"
  },
  "language_info": {
   "codemirror_mode": {
    "name": "ipython",
    "version": 3
   },
   "file_extension": ".py",
   "mimetype": "text/x-python",
   "name": "python",
   "nbconvert_exporter": "python",
   "pygments_lexer": "ipython3",
   "version": "3.10.9"
  }
 },
 "nbformat": 4,
 "nbformat_minor": 5
}
